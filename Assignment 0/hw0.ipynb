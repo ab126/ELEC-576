{
 "cells": [
  {
   "cell_type": "markdown",
   "id": "28ed0dc5-42e2-459f-b8ab-9c3dc9060786",
   "metadata": {},
   "source": [
    "Task 2"
   ]
  },
  {
   "cell_type": "code",
   "execution_count": 27,
   "id": "6745779d-8d34-4823-a440-0f29b52e8166",
   "metadata": {},
   "outputs": [],
   "source": [
    "import numpy as np"
   ]
  },
  {
   "cell_type": "code",
   "execution_count": 28,
   "id": "26046324-f42c-4b71-9c0e-1405a4550e57",
   "metadata": {},
   "outputs": [
    {
     "data": {
      "text/plain": [
       "1"
      ]
     },
     "execution_count": 28,
     "metadata": {},
     "output_type": "execute_result"
    }
   ],
   "source": [
    "a = np.random.rand(5)\n",
    "\n",
    "a.ndim"
   ]
  },
  {
   "cell_type": "code",
   "execution_count": 29,
   "id": "6f5b86f7-1ede-4e63-88bd-2198db6412d3",
   "metadata": {},
   "outputs": [
    {
     "data": {
      "text/plain": [
       "5"
      ]
     },
     "execution_count": 29,
     "metadata": {},
     "output_type": "execute_result"
    }
   ],
   "source": [
    "a.size"
   ]
  },
  {
   "cell_type": "code",
   "execution_count": 30,
   "id": "79d7b062-49b1-404f-adea-afb6f7a20189",
   "metadata": {},
   "outputs": [
    {
     "data": {
      "text/plain": [
       "(5,)"
      ]
     },
     "execution_count": 30,
     "metadata": {},
     "output_type": "execute_result"
    }
   ],
   "source": [
    "a.shape"
   ]
  },
  {
   "cell_type": "code",
   "execution_count": 31,
   "id": "ec0acf92-e104-4abb-ae11-1872ebd1a5c7",
   "metadata": {},
   "outputs": [
    {
     "data": {
      "text/plain": [
       "5"
      ]
     },
     "execution_count": 31,
     "metadata": {},
     "output_type": "execute_result"
    }
   ],
   "source": [
    "a.shape[-1]"
   ]
  },
  {
   "cell_type": "code",
   "execution_count": 32,
   "id": "d3a89f07-1c6e-48b4-9c0d-79902959ad88",
   "metadata": {},
   "outputs": [
    {
     "data": {
      "text/plain": [
       "array([[1., 2., 3.],\n",
       "       [4., 5., 6.]])"
      ]
     },
     "execution_count": 32,
     "metadata": {},
     "output_type": "execute_result"
    }
   ],
   "source": [
    "np.array([[1., 2., 3.], [4., 5., 6.]])"
   ]
  },
  {
   "cell_type": "code",
   "execution_count": 35,
   "id": "fff43dda-750b-415b-a392-d49aa9c6780e",
   "metadata": {},
   "outputs": [
    {
     "data": {
      "text/plain": [
       "array([[0.4754628 , 0.01020139, 0.63585847, 0.20752169, 0.22268668,\n",
       "        0.55910437, 0.03409525, 0.68923967, 0.17138914, 0.87237417],\n",
       "       [0.96505743, 0.78150052, 0.50239588, 0.61244346, 0.00605829,\n",
       "        0.72417096, 0.73625937, 0.76989678, 0.97782789, 0.402967  ]])"
      ]
     },
     "execution_count": 35,
     "metadata": {},
     "output_type": "execute_result"
    }
   ],
   "source": [
    "b = np.random.rand(5)\n",
    "c = np.random.rand(5)\n",
    "d = np.random.rand(5)\n",
    "\n",
    "np.block([[a, b], [c, d]])"
   ]
  },
  {
   "cell_type": "code",
   "execution_count": 37,
   "id": "f673ccd6-20df-4935-b53a-9d988c52d829",
   "metadata": {},
   "outputs": [
    {
     "data": {
      "text/plain": [
       "0.22268667654696095"
      ]
     },
     "execution_count": 37,
     "metadata": {},
     "output_type": "execute_result"
    }
   ],
   "source": [
    "a[-1]"
   ]
  },
  {
   "cell_type": "code",
   "execution_count": 55,
   "id": "96e61d6b-4e9a-4b02-bd7b-f52fa6214da5",
   "metadata": {},
   "outputs": [
    {
     "data": {
      "text/plain": [
       "array([[0.04251945, 0.68784295, 0.59522127, 0.49393218, 0.17627879,\n",
       "        0.99496785, 0.94175794, 0.43531856, 0.05132302, 0.69826144],\n",
       "       [0.3021777 , 0.10348322, 0.04817473, 0.0897465 , 0.31112549,\n",
       "        0.76802411, 0.33330711, 0.18915572, 0.01538704, 0.66979316],\n",
       "       [0.62263202, 0.75568491, 0.07136901, 0.46121149, 0.9897605 ,\n",
       "        0.99672976, 0.24919829, 0.1198892 , 0.39479156, 0.86152031],\n",
       "       [0.72102745, 0.33161473, 0.68980006, 0.24536412, 0.96088716,\n",
       "        0.39352806, 0.98287273, 0.70027302, 0.62193484, 0.31934618],\n",
       "       [0.07200356, 0.5953067 , 0.6810425 , 0.53600241, 0.48853284,\n",
       "        0.35223138, 0.67792795, 0.15141053, 0.85559398, 0.20899677],\n",
       "       [0.76755665, 0.13321528, 0.88527689, 0.71878275, 0.97979294,\n",
       "        0.55246703, 0.0014117 , 0.49335638, 0.81006545, 0.36847123],\n",
       "       [0.34818477, 0.41840864, 0.52281951, 0.67520229, 0.90260025,\n",
       "        0.76972054, 0.40772389, 0.41118994, 0.0765855 , 0.11392353],\n",
       "       [0.55404938, 0.58092238, 0.63019857, 0.87285363, 0.88100293,\n",
       "        0.32589343, 0.34289182, 0.05594992, 0.57127856, 0.49895352],\n",
       "       [0.47505161, 0.7724507 , 0.11529732, 0.91841499, 0.81282259,\n",
       "        0.40680985, 0.77776389, 0.25737011, 0.33220078, 0.37790443],\n",
       "       [0.90744779, 0.30940724, 0.79412995, 0.89185252, 0.13082441,\n",
       "        0.68545693, 0.28011697, 0.22674141, 0.15252273, 0.73672558]])"
      ]
     },
     "execution_count": 55,
     "metadata": {},
     "output_type": "execute_result"
    }
   ],
   "source": [
    "a = np.random.rand(10, 10)\n",
    "\n",
    "a"
   ]
  },
  {
   "cell_type": "code",
   "execution_count": 57,
   "id": "91d89438-51cd-4469-bf32-717446c11a03",
   "metadata": {},
   "outputs": [
    {
     "data": {
      "text/plain": [
       "0.3111254917262577"
      ]
     },
     "execution_count": 57,
     "metadata": {},
     "output_type": "execute_result"
    }
   ],
   "source": [
    "a[1, 4]"
   ]
  },
  {
   "cell_type": "code",
   "execution_count": 59,
   "id": "b8acb072-6090-4cae-bf17-1a833e1a9a25",
   "metadata": {},
   "outputs": [
    {
     "data": {
      "text/plain": [
       "array([0.3021777 , 0.10348322, 0.04817473, 0.0897465 , 0.31112549,\n",
       "       0.76802411, 0.33330711, 0.18915572, 0.01538704, 0.66979316])"
      ]
     },
     "execution_count": 59,
     "metadata": {},
     "output_type": "execute_result"
    }
   ],
   "source": [
    "a[1, :]"
   ]
  },
  {
   "cell_type": "code",
   "execution_count": 61,
   "id": "562988b6-270a-4bdb-b73f-52949761c07c",
   "metadata": {},
   "outputs": [
    {
     "data": {
      "text/plain": [
       "array([[0.04251945, 0.68784295, 0.59522127, 0.49393218, 0.17627879,\n",
       "        0.99496785, 0.94175794, 0.43531856, 0.05132302, 0.69826144],\n",
       "       [0.3021777 , 0.10348322, 0.04817473, 0.0897465 , 0.31112549,\n",
       "        0.76802411, 0.33330711, 0.18915572, 0.01538704, 0.66979316],\n",
       "       [0.62263202, 0.75568491, 0.07136901, 0.46121149, 0.9897605 ,\n",
       "        0.99672976, 0.24919829, 0.1198892 , 0.39479156, 0.86152031],\n",
       "       [0.72102745, 0.33161473, 0.68980006, 0.24536412, 0.96088716,\n",
       "        0.39352806, 0.98287273, 0.70027302, 0.62193484, 0.31934618],\n",
       "       [0.07200356, 0.5953067 , 0.6810425 , 0.53600241, 0.48853284,\n",
       "        0.35223138, 0.67792795, 0.15141053, 0.85559398, 0.20899677]])"
      ]
     },
     "execution_count": 61,
     "metadata": {},
     "output_type": "execute_result"
    }
   ],
   "source": [
    "a[0:5]"
   ]
  },
  {
   "cell_type": "code",
   "execution_count": 63,
   "id": "6215c18d-fafc-4ad2-8538-902c47d4d1c2",
   "metadata": {},
   "outputs": [
    {
     "data": {
      "text/plain": [
       "array([[0.76755665, 0.13321528, 0.88527689, 0.71878275, 0.97979294,\n",
       "        0.55246703, 0.0014117 , 0.49335638, 0.81006545, 0.36847123],\n",
       "       [0.34818477, 0.41840864, 0.52281951, 0.67520229, 0.90260025,\n",
       "        0.76972054, 0.40772389, 0.41118994, 0.0765855 , 0.11392353],\n",
       "       [0.55404938, 0.58092238, 0.63019857, 0.87285363, 0.88100293,\n",
       "        0.32589343, 0.34289182, 0.05594992, 0.57127856, 0.49895352],\n",
       "       [0.47505161, 0.7724507 , 0.11529732, 0.91841499, 0.81282259,\n",
       "        0.40680985, 0.77776389, 0.25737011, 0.33220078, 0.37790443],\n",
       "       [0.90744779, 0.30940724, 0.79412995, 0.89185252, 0.13082441,\n",
       "        0.68545693, 0.28011697, 0.22674141, 0.15252273, 0.73672558]])"
      ]
     },
     "execution_count": 63,
     "metadata": {},
     "output_type": "execute_result"
    }
   ],
   "source": [
    "a[-5:]"
   ]
  },
  {
   "cell_type": "code",
   "execution_count": 65,
   "id": "18ea045f-06e4-438d-a447-854a53247243",
   "metadata": {},
   "outputs": [
    {
     "data": {
      "text/plain": [
       "array([[0.17627879, 0.99496785, 0.94175794, 0.43531856, 0.05132302],\n",
       "       [0.31112549, 0.76802411, 0.33330711, 0.18915572, 0.01538704],\n",
       "       [0.9897605 , 0.99672976, 0.24919829, 0.1198892 , 0.39479156]])"
      ]
     },
     "execution_count": 65,
     "metadata": {},
     "output_type": "execute_result"
    }
   ],
   "source": [
    "a[0:3, 4:9]"
   ]
  },
  {
   "cell_type": "code",
   "execution_count": 67,
   "id": "e30b96d8-c9a2-491e-9159-b7784bebbdb8",
   "metadata": {},
   "outputs": [
    {
     "data": {
      "text/plain": [
       "array([[0.3021777 , 0.04817473],\n",
       "       [0.72102745, 0.68980006],\n",
       "       [0.07200356, 0.6810425 ]])"
      ]
     },
     "execution_count": 67,
     "metadata": {},
     "output_type": "execute_result"
    }
   ],
   "source": [
    "a[np.ix_([1, 3, 4], [0, 2])]"
   ]
  },
  {
   "cell_type": "code",
   "execution_count": 69,
   "id": "cf0bcccb-ab21-4686-bff3-e6a331e4ef63",
   "metadata": {},
   "outputs": [
    {
     "data": {
      "text/plain": [
       "array([[0.62263202, 0.75568491, 0.07136901, 0.46121149, 0.9897605 ,\n",
       "        0.99672976, 0.24919829, 0.1198892 , 0.39479156, 0.86152031],\n",
       "       [0.07200356, 0.5953067 , 0.6810425 , 0.53600241, 0.48853284,\n",
       "        0.35223138, 0.67792795, 0.15141053, 0.85559398, 0.20899677],\n",
       "       [0.34818477, 0.41840864, 0.52281951, 0.67520229, 0.90260025,\n",
       "        0.76972054, 0.40772389, 0.41118994, 0.0765855 , 0.11392353],\n",
       "       [0.47505161, 0.7724507 , 0.11529732, 0.91841499, 0.81282259,\n",
       "        0.40680985, 0.77776389, 0.25737011, 0.33220078, 0.37790443]])"
      ]
     },
     "execution_count": 69,
     "metadata": {},
     "output_type": "execute_result"
    }
   ],
   "source": [
    "a[2:9:2,:]"
   ]
  },
  {
   "cell_type": "code",
   "execution_count": 71,
   "id": "5f5176de-2266-4642-a375-94b894d039d7",
   "metadata": {},
   "outputs": [
    {
     "data": {
      "text/plain": [
       "array([[0.04251945, 0.68784295, 0.59522127, 0.49393218, 0.17627879,\n",
       "        0.99496785, 0.94175794, 0.43531856, 0.05132302, 0.69826144],\n",
       "       [0.62263202, 0.75568491, 0.07136901, 0.46121149, 0.9897605 ,\n",
       "        0.99672976, 0.24919829, 0.1198892 , 0.39479156, 0.86152031],\n",
       "       [0.07200356, 0.5953067 , 0.6810425 , 0.53600241, 0.48853284,\n",
       "        0.35223138, 0.67792795, 0.15141053, 0.85559398, 0.20899677],\n",
       "       [0.34818477, 0.41840864, 0.52281951, 0.67520229, 0.90260025,\n",
       "        0.76972054, 0.40772389, 0.41118994, 0.0765855 , 0.11392353],\n",
       "       [0.47505161, 0.7724507 , 0.11529732, 0.91841499, 0.81282259,\n",
       "        0.40680985, 0.77776389, 0.25737011, 0.33220078, 0.37790443]])"
      ]
     },
     "execution_count": 71,
     "metadata": {},
     "output_type": "execute_result"
    }
   ],
   "source": [
    "a[::2, :]"
   ]
  },
  {
   "cell_type": "code",
   "execution_count": 73,
   "id": "107f01e4-1cbe-488d-a47c-5bdb7d23815e",
   "metadata": {},
   "outputs": [
    {
     "data": {
      "text/plain": [
       "array([[0.90744779, 0.30940724, 0.79412995, 0.89185252, 0.13082441,\n",
       "        0.68545693, 0.28011697, 0.22674141, 0.15252273, 0.73672558],\n",
       "       [0.47505161, 0.7724507 , 0.11529732, 0.91841499, 0.81282259,\n",
       "        0.40680985, 0.77776389, 0.25737011, 0.33220078, 0.37790443],\n",
       "       [0.55404938, 0.58092238, 0.63019857, 0.87285363, 0.88100293,\n",
       "        0.32589343, 0.34289182, 0.05594992, 0.57127856, 0.49895352],\n",
       "       [0.34818477, 0.41840864, 0.52281951, 0.67520229, 0.90260025,\n",
       "        0.76972054, 0.40772389, 0.41118994, 0.0765855 , 0.11392353],\n",
       "       [0.76755665, 0.13321528, 0.88527689, 0.71878275, 0.97979294,\n",
       "        0.55246703, 0.0014117 , 0.49335638, 0.81006545, 0.36847123],\n",
       "       [0.07200356, 0.5953067 , 0.6810425 , 0.53600241, 0.48853284,\n",
       "        0.35223138, 0.67792795, 0.15141053, 0.85559398, 0.20899677],\n",
       "       [0.72102745, 0.33161473, 0.68980006, 0.24536412, 0.96088716,\n",
       "        0.39352806, 0.98287273, 0.70027302, 0.62193484, 0.31934618],\n",
       "       [0.62263202, 0.75568491, 0.07136901, 0.46121149, 0.9897605 ,\n",
       "        0.99672976, 0.24919829, 0.1198892 , 0.39479156, 0.86152031],\n",
       "       [0.3021777 , 0.10348322, 0.04817473, 0.0897465 , 0.31112549,\n",
       "        0.76802411, 0.33330711, 0.18915572, 0.01538704, 0.66979316],\n",
       "       [0.04251945, 0.68784295, 0.59522127, 0.49393218, 0.17627879,\n",
       "        0.99496785, 0.94175794, 0.43531856, 0.05132302, 0.69826144]])"
      ]
     },
     "execution_count": 73,
     "metadata": {},
     "output_type": "execute_result"
    }
   ],
   "source": [
    "a[::-1,:]"
   ]
  },
  {
   "cell_type": "code",
   "execution_count": 75,
   "id": "7c62a469-162b-4dc7-a8b4-832d8fd21a15",
   "metadata": {},
   "outputs": [
    {
     "data": {
      "text/plain": [
       "array([[0.04251945, 0.68784295, 0.59522127, 0.49393218, 0.17627879,\n",
       "        0.99496785, 0.94175794, 0.43531856, 0.05132302, 0.69826144],\n",
       "       [0.3021777 , 0.10348322, 0.04817473, 0.0897465 , 0.31112549,\n",
       "        0.76802411, 0.33330711, 0.18915572, 0.01538704, 0.66979316],\n",
       "       [0.62263202, 0.75568491, 0.07136901, 0.46121149, 0.9897605 ,\n",
       "        0.99672976, 0.24919829, 0.1198892 , 0.39479156, 0.86152031],\n",
       "       [0.72102745, 0.33161473, 0.68980006, 0.24536412, 0.96088716,\n",
       "        0.39352806, 0.98287273, 0.70027302, 0.62193484, 0.31934618],\n",
       "       [0.07200356, 0.5953067 , 0.6810425 , 0.53600241, 0.48853284,\n",
       "        0.35223138, 0.67792795, 0.15141053, 0.85559398, 0.20899677],\n",
       "       [0.76755665, 0.13321528, 0.88527689, 0.71878275, 0.97979294,\n",
       "        0.55246703, 0.0014117 , 0.49335638, 0.81006545, 0.36847123],\n",
       "       [0.34818477, 0.41840864, 0.52281951, 0.67520229, 0.90260025,\n",
       "        0.76972054, 0.40772389, 0.41118994, 0.0765855 , 0.11392353],\n",
       "       [0.55404938, 0.58092238, 0.63019857, 0.87285363, 0.88100293,\n",
       "        0.32589343, 0.34289182, 0.05594992, 0.57127856, 0.49895352],\n",
       "       [0.47505161, 0.7724507 , 0.11529732, 0.91841499, 0.81282259,\n",
       "        0.40680985, 0.77776389, 0.25737011, 0.33220078, 0.37790443],\n",
       "       [0.90744779, 0.30940724, 0.79412995, 0.89185252, 0.13082441,\n",
       "        0.68545693, 0.28011697, 0.22674141, 0.15252273, 0.73672558],\n",
       "       [0.04251945, 0.68784295, 0.59522127, 0.49393218, 0.17627879,\n",
       "        0.99496785, 0.94175794, 0.43531856, 0.05132302, 0.69826144]])"
      ]
     },
     "execution_count": 75,
     "metadata": {},
     "output_type": "execute_result"
    }
   ],
   "source": [
    "a[np.r_[:len(a),0]]"
   ]
  },
  {
   "cell_type": "code",
   "execution_count": 77,
   "id": "23c16499-9186-4875-8040-459c350b66e6",
   "metadata": {},
   "outputs": [
    {
     "data": {
      "text/plain": [
       "array([[0.04251945, 0.3021777 , 0.62263202, 0.72102745, 0.07200356,\n",
       "        0.76755665, 0.34818477, 0.55404938, 0.47505161, 0.90744779],\n",
       "       [0.68784295, 0.10348322, 0.75568491, 0.33161473, 0.5953067 ,\n",
       "        0.13321528, 0.41840864, 0.58092238, 0.7724507 , 0.30940724],\n",
       "       [0.59522127, 0.04817473, 0.07136901, 0.68980006, 0.6810425 ,\n",
       "        0.88527689, 0.52281951, 0.63019857, 0.11529732, 0.79412995],\n",
       "       [0.49393218, 0.0897465 , 0.46121149, 0.24536412, 0.53600241,\n",
       "        0.71878275, 0.67520229, 0.87285363, 0.91841499, 0.89185252],\n",
       "       [0.17627879, 0.31112549, 0.9897605 , 0.96088716, 0.48853284,\n",
       "        0.97979294, 0.90260025, 0.88100293, 0.81282259, 0.13082441],\n",
       "       [0.99496785, 0.76802411, 0.99672976, 0.39352806, 0.35223138,\n",
       "        0.55246703, 0.76972054, 0.32589343, 0.40680985, 0.68545693],\n",
       "       [0.94175794, 0.33330711, 0.24919829, 0.98287273, 0.67792795,\n",
       "        0.0014117 , 0.40772389, 0.34289182, 0.77776389, 0.28011697],\n",
       "       [0.43531856, 0.18915572, 0.1198892 , 0.70027302, 0.15141053,\n",
       "        0.49335638, 0.41118994, 0.05594992, 0.25737011, 0.22674141],\n",
       "       [0.05132302, 0.01538704, 0.39479156, 0.62193484, 0.85559398,\n",
       "        0.81006545, 0.0765855 , 0.57127856, 0.33220078, 0.15252273],\n",
       "       [0.69826144, 0.66979316, 0.86152031, 0.31934618, 0.20899677,\n",
       "        0.36847123, 0.11392353, 0.49895352, 0.37790443, 0.73672558]])"
      ]
     },
     "execution_count": 77,
     "metadata": {},
     "output_type": "execute_result"
    }
   ],
   "source": [
    "a.T"
   ]
  },
  {
   "cell_type": "code",
   "execution_count": 79,
   "id": "f5214981-8604-4275-9dc2-dea9361b5992",
   "metadata": {},
   "outputs": [
    {
     "data": {
      "text/plain": [
       "array([[0.04251945, 0.3021777 , 0.62263202, 0.72102745, 0.07200356,\n",
       "        0.76755665, 0.34818477, 0.55404938, 0.47505161, 0.90744779],\n",
       "       [0.68784295, 0.10348322, 0.75568491, 0.33161473, 0.5953067 ,\n",
       "        0.13321528, 0.41840864, 0.58092238, 0.7724507 , 0.30940724],\n",
       "       [0.59522127, 0.04817473, 0.07136901, 0.68980006, 0.6810425 ,\n",
       "        0.88527689, 0.52281951, 0.63019857, 0.11529732, 0.79412995],\n",
       "       [0.49393218, 0.0897465 , 0.46121149, 0.24536412, 0.53600241,\n",
       "        0.71878275, 0.67520229, 0.87285363, 0.91841499, 0.89185252],\n",
       "       [0.17627879, 0.31112549, 0.9897605 , 0.96088716, 0.48853284,\n",
       "        0.97979294, 0.90260025, 0.88100293, 0.81282259, 0.13082441],\n",
       "       [0.99496785, 0.76802411, 0.99672976, 0.39352806, 0.35223138,\n",
       "        0.55246703, 0.76972054, 0.32589343, 0.40680985, 0.68545693],\n",
       "       [0.94175794, 0.33330711, 0.24919829, 0.98287273, 0.67792795,\n",
       "        0.0014117 , 0.40772389, 0.34289182, 0.77776389, 0.28011697],\n",
       "       [0.43531856, 0.18915572, 0.1198892 , 0.70027302, 0.15141053,\n",
       "        0.49335638, 0.41118994, 0.05594992, 0.25737011, 0.22674141],\n",
       "       [0.05132302, 0.01538704, 0.39479156, 0.62193484, 0.85559398,\n",
       "        0.81006545, 0.0765855 , 0.57127856, 0.33220078, 0.15252273],\n",
       "       [0.69826144, 0.66979316, 0.86152031, 0.31934618, 0.20899677,\n",
       "        0.36847123, 0.11392353, 0.49895352, 0.37790443, 0.73672558]])"
      ]
     },
     "execution_count": 79,
     "metadata": {},
     "output_type": "execute_result"
    }
   ],
   "source": [
    "a.conj().T"
   ]
  },
  {
   "cell_type": "code",
   "execution_count": 109,
   "id": "0f856e45-00de-467f-8206-a0d3af0a761a",
   "metadata": {},
   "outputs": [
    {
     "name": "stdout",
     "output_type": "stream",
     "text": [
      "a: [[4 2]\n",
      " [1 2]] \n",
      " b: [[1 3]\n",
      " [3 1]]\n"
     ]
    }
   ],
   "source": [
    "a = np.random.randint(1, 5, (2, 2))\n",
    "b = np.random.randint(1, 5, (2, 2))\n",
    "\n",
    "print('a:', a, '\\n','b:', b)"
   ]
  },
  {
   "cell_type": "code",
   "execution_count": 111,
   "id": "22a2c9b7-e701-4751-86a9-b117c79906cf",
   "metadata": {},
   "outputs": [
    {
     "data": {
      "text/plain": [
       "array([[10, 14],\n",
       "       [ 7,  5]])"
      ]
     },
     "execution_count": 111,
     "metadata": {},
     "output_type": "execute_result"
    }
   ],
   "source": [
    "a @ b"
   ]
  },
  {
   "cell_type": "code",
   "execution_count": 113,
   "id": "55ee5cc9-eed3-404e-b8cb-09f15b10e76f",
   "metadata": {},
   "outputs": [
    {
     "data": {
      "text/plain": [
       "array([[4, 6],\n",
       "       [3, 2]])"
      ]
     },
     "execution_count": 113,
     "metadata": {},
     "output_type": "execute_result"
    }
   ],
   "source": [
    "a * b"
   ]
  },
  {
   "cell_type": "code",
   "execution_count": 115,
   "id": "a497b065-9a59-4794-acdb-1c4d64e9ab7c",
   "metadata": {},
   "outputs": [
    {
     "data": {
      "text/plain": [
       "array([[4.        , 0.66666667],\n",
       "       [0.33333333, 2.        ]])"
      ]
     },
     "execution_count": 115,
     "metadata": {},
     "output_type": "execute_result"
    }
   ],
   "source": [
    "a/b"
   ]
  },
  {
   "cell_type": "code",
   "execution_count": 117,
   "id": "6146d13d-3fdf-4fef-b3e1-07cfe36b62c9",
   "metadata": {},
   "outputs": [
    {
     "data": {
      "text/plain": [
       "array([[64,  8],\n",
       "       [ 1,  8]], dtype=int32)"
      ]
     },
     "execution_count": 117,
     "metadata": {},
     "output_type": "execute_result"
    }
   ],
   "source": [
    "a**3"
   ]
  },
  {
   "cell_type": "code",
   "execution_count": 121,
   "id": "980ae1dc-37e1-4880-96d4-0084b549ec50",
   "metadata": {},
   "outputs": [
    {
     "data": {
      "text/plain": [
       "array([[ True, False],\n",
       "       [False, False]])"
      ]
     },
     "execution_count": 121,
     "metadata": {},
     "output_type": "execute_result"
    }
   ],
   "source": [
    "(a > 2)"
   ]
  },
  {
   "cell_type": "code",
   "execution_count": 123,
   "id": "c9dd3d2c-0d4b-4016-9438-78bac636ba86",
   "metadata": {},
   "outputs": [
    {
     "data": {
      "text/plain": [
       "(array([0], dtype=int64), array([0], dtype=int64))"
      ]
     },
     "execution_count": 123,
     "metadata": {},
     "output_type": "execute_result"
    }
   ],
   "source": [
    "np.nonzero(a > 2)"
   ]
  },
  {
   "cell_type": "code",
   "execution_count": 125,
   "id": "8f898f3b-635e-4e40-8148-b428ff9c8d3b",
   "metadata": {},
   "outputs": [
    {
     "data": {
      "text/plain": [
       "array([[1],\n",
       "       [3]])"
      ]
     },
     "execution_count": 125,
     "metadata": {},
     "output_type": "execute_result"
    }
   ],
   "source": [
    "b[:,np.nonzero(a > 2)[0]]"
   ]
  },
  {
   "cell_type": "code",
   "execution_count": 141,
   "id": "b1c1abd6-e212-48fd-8ccd-5ffc44c235b0",
   "metadata": {},
   "outputs": [
    {
     "data": {
      "text/plain": [
       "array([[1]])"
      ]
     },
     "execution_count": 141,
     "metadata": {},
     "output_type": "execute_result"
    }
   ],
   "source": [
    "b = b.reshape((1, 2, 2))\n",
    "\n",
    "b[:, a.T > 2]"
   ]
  },
  {
   "cell_type": "code",
   "execution_count": 147,
   "id": "ce3ab5eb-4eb9-4e4e-bebc-5fd5becb7df4",
   "metadata": {},
   "outputs": [
    {
     "data": {
      "text/plain": [
       "array([[4, 2],\n",
       "       [0, 2]])"
      ]
     },
     "execution_count": 147,
     "metadata": {},
     "output_type": "execute_result"
    }
   ],
   "source": [
    "a[a < 2]=0\n",
    "a"
   ]
  },
  {
   "cell_type": "code",
   "execution_count": 149,
   "id": "d2404345-115a-45d0-a740-d460f69d2d40",
   "metadata": {},
   "outputs": [
    {
     "data": {
      "text/plain": [
       "array([[4, 0],\n",
       "       [0, 0]])"
      ]
     },
     "execution_count": 149,
     "metadata": {},
     "output_type": "execute_result"
    }
   ],
   "source": [
    "a * (a > 2)"
   ]
  },
  {
   "cell_type": "code",
   "execution_count": 161,
   "id": "e86479af-da69-41a1-9616-62559fb93920",
   "metadata": {},
   "outputs": [
    {
     "name": "stdout",
     "output_type": "stream",
     "text": [
      "a: [[1 3]\n",
      " [1 2]] \n",
      " b: [[1 3]\n",
      " [1 2]]\n"
     ]
    }
   ],
   "source": [
    "a = b.copy()\n",
    "print('a:', a, '\\n','b:', b)"
   ]
  },
  {
   "cell_type": "code",
   "execution_count": 163,
   "id": "9cda2d76-a645-41a1-bc7b-9ea58696cdd7",
   "metadata": {},
   "outputs": [
    {
     "name": "stdout",
     "output_type": "stream",
     "text": [
      "a: [2 3] \n",
      " b: [[2 1]\n",
      " [2 3]]\n"
     ]
    }
   ],
   "source": [
    "b = np.random.randint(1, 5, (2, 2))\n",
    "\n",
    "a = b[1, :].copy()\n",
    "print('a:', a, '\\n','b:', b)"
   ]
  },
  {
   "cell_type": "code",
   "execution_count": 165,
   "id": "1a3a79ed-f56a-433d-8e0c-48fcac590bf4",
   "metadata": {},
   "outputs": [
    {
     "name": "stdout",
     "output_type": "stream",
     "text": [
      "a: [2 1 2 3] \n",
      " b: [[2 1]\n",
      " [2 3]]\n"
     ]
    }
   ],
   "source": [
    "a = b.flatten()\n",
    "\n",
    "print('a:', a, '\\n','b:', b)"
   ]
  },
  {
   "cell_type": "markdown",
   "id": "7bc67128-ca60-4699-b9ae-131a1672a1c9",
   "metadata": {},
   "source": [
    "I think it works :)"
   ]
  },
  {
   "cell_type": "markdown",
   "id": "c5c8247b-6b3c-4ad3-a9d1-659a925ea69b",
   "metadata": {},
   "source": [
    "Task 3"
   ]
  },
  {
   "cell_type": "code",
   "execution_count": 167,
   "id": "c7525c1d-6b19-4ec0-bd14-d714d6569b11",
   "metadata": {},
   "outputs": [
    {
     "data": {
      "image/png": "[encoded data removed]",
      "text/plain": [
       "<Figure size 640x480 with 1 Axes>"
      ]
     },
     "metadata": {},
     "output_type": "display_data"
    }
   ],
   "source": [
    "import matplotlib.pyplot as plt\n",
    "plt.plot([1,2,3,4], [1,2,7,14])\n",
    "plt.axis([0, 6, 0, 20])\n",
    "plt.show()\n"
   ]
  },
  {
   "cell_type": "markdown",
   "id": "ce338fcd-e43a-48de-a42e-325775039692",
   "metadata": {},
   "source": [
    "Task 4"
   ]
  },
  {
   "cell_type": "markdown",
   "id": "13459be7-75e2-4869-afde-a9f1cb02d43b",
   "metadata": {},
   "source": [
    "Vizualizing Mandelbrot set. Reference: https://medium.com/swlh/visualizing-the-mandelbrot-set-using-python-50-lines-f6aa5a05cf0f"
   ]
  },
  {
   "cell_type": "code",
   "execution_count": 214,
   "id": "4e6cf935-2ab1-4b61-bbeb-2bf4c30caf38",
   "metadata": {
    "scrolled": true
   },
   "outputs": [
    {
     "data": {
      "image/png": "[encoded data removed]",
      "text/plain": [
       "<Figure size 640x480 with 1 Axes>"
      ]
     },
     "metadata": {},
     "output_type": "display_data"
    }
   ],
   "source": [
    "from PIL import Image\n",
    "import colorsys\n",
    "import math\n",
    "import os\n",
    "import matplotlib.pyplot as plt\n",
    "import matplotlib.image as mpimg\n",
    "\n",
    "#frame parameters\n",
    "width = 200 #pixels\n",
    "x = -0.65\n",
    "y = 0\n",
    "xRange = 3.4\n",
    "aspectRatio = 4/3 \n",
    "\n",
    "precision = 5000\n",
    "\n",
    "height = round(width / aspectRatio)\n",
    "yRange = xRange / aspectRatio\n",
    "minX = x - xRange / 2\n",
    "maxX = x + xRange / 2\n",
    "minY = y - yRange / 2\n",
    "maxY = y + yRange / 2\n",
    "\n",
    "img = Image.new('RGB', (width, height), color = 'black')\n",
    "pixels = img.load()\n",
    "\n",
    "def logColor(distance, base, const, scale):\n",
    "    color = -1 * math.log(distance, base)\n",
    "    rgb = colorsys.hsv_to_rgb(const + scale * color,0.8,0.9)\n",
    "    return tuple(round(i * 255) for i in rgb)\n",
    "\n",
    "def powerColor(distance, exp, const, scale):\n",
    "    color = distance**exp\n",
    "    rgb = colorsys.hsv_to_rgb(const + scale * color,1 - 0.6 * color,0.9)\n",
    "    return tuple(round(i * 255) for i in rgb)\n",
    "\n",
    "for row in range(height):\n",
    "    for col in range(width):\n",
    "        x = minX + col * xRange / width\n",
    "        y = maxY - row * yRange / height\n",
    "        oldX = x\n",
    "        oldY = y\n",
    "        for i in range(precision + 1):\n",
    "            a = x*x - y*y #real component of z^2\n",
    "            b = 2 * x * y #imaginary component of z^2\n",
    "            x = a + oldX #real component of new z\n",
    "            y = b + oldY #imaginary component of new z\n",
    "            if x*x + y*y > 4:\n",
    "                break\n",
    "        if i < precision:\n",
    "            distance = (i + 1) / (precision + 1)\n",
    "            rgb = powerColor(distance, 0.2, 0.27, 1.0)\n",
    "            pixels[col,row] = rgb\n",
    "        index = row * width + col + 1\n",
    "        #print(\"{} / {}, {}%\".format(index, width * height, round(index / width / height * 100 * 10) / 10))\n",
    "\n",
    "img.save('output.png')\n",
    "\n",
    "# Load the image\n",
    "img = mpimg.imread('output.png') \n",
    "\n",
    "# Display the image\n",
    "plt.imshow(img)\n",
    "plt.axis('off') # Optional: Hide the axis\n",
    "plt.show()"
   ]
  },
  {
   "cell_type": "code",
   "execution_count": null,
   "id": "54e0e420-f3c8-43cf-8fec-ec4e80478cb6",
   "metadata": {},
   "outputs": [],
   "source": []
  }
 ],
 "metadata": {
  "kernelspec": {
   "display_name": "Python 3 (ipykernel)",
   "language": "python",
   "name": "python3"
  },
  "language_info": {
   "codemirror_mode": {
    "name": "ipython",
    "version": 3
   },
   "file_extension": ".py",
   "mimetype": "text/x-python",
   "name": "python",
   "nbconvert_exporter": "python",
   "pygments_lexer": "ipython3",
   "version": "3.9.13"
  }
 },
 "nbformat": 4,
 "nbformat_minor": 5
}
